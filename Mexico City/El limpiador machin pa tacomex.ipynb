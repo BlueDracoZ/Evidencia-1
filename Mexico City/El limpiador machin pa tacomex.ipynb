{
 "cells": [
  {
   "cell_type": "code",
   "execution_count": 2,
   "metadata": {},
   "outputs": [],
   "source": [
    "import pandas as pd\n",
    "import numpy as np\n",
    "import matplotlib.pyplot as plt\n",
    "import seaborn as sns\n",
    "from funpymodeling.exploratory import freq_tbl\n",
    "import re"
   ]
  },
  {
   "cell_type": "code",
   "execution_count": 32,
   "metadata": {},
   "outputs": [],
   "source": [
    "df=pd.read_csv(\"DF_LIMPIO(No outliers_Blu_pajarito20).csv\")"
   ]
  },
  {
   "cell_type": "code",
   "execution_count": 33,
   "metadata": {},
   "outputs": [
    {
     "name": "stdout",
     "output_type": "stream",
     "text": [
      "<class 'pandas.core.frame.DataFrame'>\n",
      "RangeIndex: 31401 entries, 0 to 31400\n",
      "Data columns (total 21 columns):\n",
      " #   Column                       Non-Null Count  Dtype  \n",
      "---  ------                       --------------  -----  \n",
      " 0   Unnamed: 0                   31401 non-null  int64  \n",
      " 1   host_acceptance_rate         26756 non-null  object \n",
      " 2   host_identity_verified       31398 non-null  object \n",
      " 3   property_type                31401 non-null  object \n",
      " 4   host_response_time           23076 non-null  object \n",
      " 5   number_of_reviews            31401 non-null  int64  \n",
      " 6   review_scores_cleanliness    31401 non-null  float64\n",
      " 7   availability_365             31401 non-null  int64  \n",
      " 8   review_scores_location       31401 non-null  float64\n",
      " 9   review_scores_value          31401 non-null  float64\n",
      " 10  bathrooms_text               31401 non-null  float64\n",
      " 11  price                        31401 non-null  float64\n",
      " 12  neighbourhood_cleansed       31401 non-null  object \n",
      " 13  room_type                    31401 non-null  object \n",
      " 14  accommodates                 31401 non-null  int64  \n",
      " 15  beds                         31206 non-null  float64\n",
      " 16  minimum_nights               31401 non-null  int64  \n",
      " 17  maximum_nights               31401 non-null  int64  \n",
      " 18  has_availability             31401 non-null  bool   \n",
      " 19  review_scores_checkin        31401 non-null  float64\n",
      " 20  review_scores_communication  31401 non-null  float64\n",
      "dtypes: bool(1), float64(8), int64(6), object(6)\n",
      "memory usage: 4.8+ MB\n"
     ]
    }
   ],
   "source": [
    "df.info()"
   ]
  },
  {
   "cell_type": "code",
   "execution_count": 34,
   "metadata": {},
   "outputs": [
    {
     "name": "stdout",
     "output_type": "stream",
     "text": [
      "Unnamed: 0                        0\n",
      "host_acceptance_rate           4645\n",
      "host_identity_verified            3\n",
      "property_type                     0\n",
      "host_response_time             8325\n",
      "number_of_reviews                 0\n",
      "review_scores_cleanliness         0\n",
      "availability_365                  0\n",
      "review_scores_location            0\n",
      "review_scores_value               0\n",
      "bathrooms_text                    0\n",
      "price                             0\n",
      "neighbourhood_cleansed            0\n",
      "room_type                         0\n",
      "accommodates                      0\n",
      "beds                            195\n",
      "minimum_nights                    0\n",
      "maximum_nights                    0\n",
      "has_availability                  0\n",
      "review_scores_checkin             0\n",
      "review_scores_communication       0\n",
      "dtype: int64\n"
     ]
    }
   ],
   "source": [
    "print(df.isnull().sum())"
   ]
  },
  {
   "cell_type": "code",
   "execution_count": 35,
   "metadata": {},
   "outputs": [
    {
     "name": "stdout",
     "output_type": "stream",
     "text": [
      "Unnamed: 0                        0\n",
      "host_acceptance_rate              0\n",
      "host_identity_verified            3\n",
      "property_type                     0\n",
      "host_response_time             8325\n",
      "number_of_reviews                 0\n",
      "review_scores_cleanliness         0\n",
      "availability_365                  0\n",
      "review_scores_location            0\n",
      "review_scores_value               0\n",
      "bathrooms_text                    0\n",
      "price                             0\n",
      "neighbourhood_cleansed            0\n",
      "room_type                         0\n",
      "accommodates                      0\n",
      "beds                            195\n",
      "minimum_nights                    0\n",
      "maximum_nights                    0\n",
      "has_availability                  0\n",
      "review_scores_checkin             0\n",
      "review_scores_communication       0\n",
      "dtype: int64\n"
     ]
    }
   ],
   "source": [
    "df[\"host_acceptance_rate\"].fillna(\"0%\",inplace = True)\n",
    "print(df.isnull().sum())"
   ]
  },
  {
   "cell_type": "code",
   "execution_count": 36,
   "metadata": {},
   "outputs": [
    {
     "name": "stdout",
     "output_type": "stream",
     "text": [
      "Unnamed: 0                        0\n",
      "host_acceptance_rate              0\n",
      "host_identity_verified            0\n",
      "property_type                     0\n",
      "host_response_time             8325\n",
      "number_of_reviews                 0\n",
      "review_scores_cleanliness         0\n",
      "availability_365                  0\n",
      "review_scores_location            0\n",
      "review_scores_value               0\n",
      "bathrooms_text                    0\n",
      "price                             0\n",
      "neighbourhood_cleansed            0\n",
      "room_type                         0\n",
      "accommodates                      0\n",
      "beds                            195\n",
      "minimum_nights                    0\n",
      "maximum_nights                    0\n",
      "has_availability                  0\n",
      "review_scores_checkin             0\n",
      "review_scores_communication       0\n",
      "dtype: int64\n"
     ]
    }
   ],
   "source": [
    "df[\"host_identity_verified\"].fillna(True,inplace = True)\n",
    "print(df.isnull().sum())"
   ]
  },
  {
   "cell_type": "code",
   "execution_count": 37,
   "metadata": {},
   "outputs": [
    {
     "name": "stdout",
     "output_type": "stream",
     "text": [
      "Unnamed: 0                       0\n",
      "host_acceptance_rate             0\n",
      "host_identity_verified           0\n",
      "property_type                    0\n",
      "host_response_time               0\n",
      "number_of_reviews                0\n",
      "review_scores_cleanliness        0\n",
      "availability_365                 0\n",
      "review_scores_location           0\n",
      "review_scores_value              0\n",
      "bathrooms_text                   0\n",
      "price                            0\n",
      "neighbourhood_cleansed           0\n",
      "room_type                        0\n",
      "accommodates                     0\n",
      "beds                           195\n",
      "minimum_nights                   0\n",
      "maximum_nights                   0\n",
      "has_availability                 0\n",
      "review_scores_checkin            0\n",
      "review_scores_communication      0\n",
      "dtype: int64\n"
     ]
    }
   ],
   "source": [
    "df[\"host_response_time\"].fillna(\"No information\",inplace = True)\n",
    "print(df.isnull().sum())"
   ]
  },
  {
   "cell_type": "code",
   "execution_count": 38,
   "metadata": {},
   "outputs": [],
   "source": [
    "df[\"beds\"]=df[\"beds\"].fillna(round(df[\"beds\"].mean(),0))"
   ]
  },
  {
   "cell_type": "markdown",
   "metadata": {},
   "source": [
    "## Outliers"
   ]
  },
  {
   "cell_type": "code",
   "execution_count": 39,
   "metadata": {},
   "outputs": [],
   "source": [
    "df_sel=df[[\"number_of_reviews\",\"review_scores_cleanliness\",\"availability_365\",\"review_scores_location\",\"review_scores_value\",\"bathrooms_text\",\"price\",\"beds\",\"review_scores_communication\",\"review_scores_checkin\",\"minimum_nights\",\"maximum_nights\",\"accommodates\"]]"
   ]
  },
  {
   "cell_type": "code",
   "execution_count": 40,
   "metadata": {},
   "outputs": [],
   "source": [
    "df_conc=df.drop(columns=[\"number_of_reviews\",\"review_scores_cleanliness\",\"availability_365\",\"review_scores_location\",\"review_scores_value\",\"bathrooms_text\",\"price\",\"beds\",\"review_scores_communication\",\"review_scores_checkin\",\"minimum_nights\",\"maximum_nights\",\"accommodates\"])"
   ]
  },
  {
   "cell_type": "code",
   "execution_count": 41,
   "metadata": {},
   "outputs": [
    {
     "data": {
      "text/plain": [
       "<Axes: >"
      ]
     },
     "execution_count": 41,
     "metadata": {},
     "output_type": "execute_result"
    },
    {
     "data": {
      "image/png": "[encoded data removed]",
      "text/plain": [
       "<Figure size 640x480 with 1 Axes>"
      ]
     },
     "metadata": {},
     "output_type": "display_data"
    }
   ],
   "source": [
    "sns.boxplot(data=df_sel)"
   ]
  },
  {
   "cell_type": "code",
   "execution_count": 42,
   "metadata": {},
   "outputs": [
    {
     "name": "stdout",
     "output_type": "stream",
     "text": [
      "       number_of_reviews  review_scores_cleanliness  availability_365  \\\n",
      "0                    0.0                       4.73                 0   \n",
      "1                    1.0                        NaN                 0   \n",
      "2                    1.0                       4.73               362   \n",
      "3                    3.0                        NaN                 0   \n",
      "4                    0.0                       4.73                 0   \n",
      "...                  ...                        ...               ...   \n",
      "31396                1.0                        NaN               360   \n",
      "31397                0.0                       4.73               160   \n",
      "31398               16.0                       4.63                79   \n",
      "31399                0.0                       4.73                89   \n",
      "31400                0.0                       4.73                86   \n",
      "\n",
      "       review_scores_location  review_scores_value  bathrooms_text  price  \\\n",
      "0                        4.86                 4.68             1.0  800.0   \n",
      "1                         NaN                 5.00             1.0  407.0   \n",
      "2                        4.86                 4.68             1.0  334.0   \n",
      "3                         NaN                  NaN             1.0  130.0   \n",
      "4                        4.86                 4.68             2.0    NaN   \n",
      "...                       ...                  ...             ...    ...   \n",
      "31396                    5.00                 5.00             1.0  392.0   \n",
      "31397                    4.86                 4.68             1.0  180.0   \n",
      "31398                    4.69                 4.69             1.0  250.0   \n",
      "31399                    4.86                 4.68             1.0  160.0   \n",
      "31400                    4.86                 4.68             1.0  253.0   \n",
      "\n",
      "       beds  review_scores_communication  review_scores_checkin  \\\n",
      "0       2.0                         4.68                   4.68   \n",
      "1       2.0                         5.00                   5.00   \n",
      "2       1.0                         4.68                   4.68   \n",
      "3       1.0                          NaN                    NaN   \n",
      "4       3.0                         4.68                   4.68   \n",
      "...     ...                          ...                    ...   \n",
      "31396   3.0                         5.00                   5.00   \n",
      "31397   1.0                         4.68                   4.68   \n",
      "31398   1.0                         4.69                   4.69   \n",
      "31399   1.0                         4.68                   4.68   \n",
      "31400   2.0                         4.68                   4.68   \n",
      "\n",
      "       minimum_nights  maximum_nights  accommodates  \n",
      "0                 NaN            30.0           6.0  \n",
      "1                 1.0          1125.0           4.0  \n",
      "2                 3.0          1125.0           3.0  \n",
      "3                 NaN            90.0           2.0  \n",
      "4                 1.0          1125.0           6.0  \n",
      "...               ...             ...           ...  \n",
      "31396             3.0           365.0           6.0  \n",
      "31397             5.0          1125.0           2.0  \n",
      "31398             2.0           365.0           4.0  \n",
      "31399             3.0           365.0           4.0  \n",
      "31400             1.0           365.0           4.0  \n",
      "\n",
      "[31401 rows x 13 columns]\n"
     ]
    }
   ],
   "source": [
    "y = df_sel\n",
    "percentile25 = y.quantile(0.25)\n",
    "percentile75 = y.quantile(0.75)\n",
    "iqr = percentile75 - percentile25\n",
    "lower_bound = percentile25 - (1.5 * iqr)\n",
    "upper_bound = percentile75 + (1.5 * iqr)\n",
    "cleaned_data = df_sel[(df_sel >= lower_bound) & (df_sel <= upper_bound)]\n",
    "\n",
    "print(cleaned_data)"
   ]
  },
  {
   "cell_type": "code",
   "execution_count": 43,
   "metadata": {},
   "outputs": [
    {
     "data": {
      "text/plain": [
       "<Axes: >"
      ]
     },
     "execution_count": 43,
     "metadata": {},
     "output_type": "execute_result"
    },
    {
     "data": {
      "image/png": "[encoded data removed]",
      "text/plain": [
       "<Figure size 640x480 with 1 Axes>"
      ]
     },
     "metadata": {},
     "output_type": "display_data"
    }
   ],
   "source": [
    "sns.boxplot(data=cleaned_data)"
   ]
  },
  {
   "cell_type": "code",
   "execution_count": 44,
   "metadata": {},
   "outputs": [
    {
     "name": "stdout",
     "output_type": "stream",
     "text": [
      "number_of_reviews              3805\n",
      "review_scores_cleanliness      2385\n",
      "availability_365                  0\n",
      "review_scores_location         2470\n",
      "review_scores_value            2950\n",
      "bathrooms_text                 1058\n",
      "price                          3092\n",
      "beds                            953\n",
      "review_scores_communication    2950\n",
      "review_scores_checkin          2950\n",
      "minimum_nights                 2741\n",
      "maximum_nights                    1\n",
      "accommodates                   1157\n",
      "dtype: int64\n"
     ]
    }
   ],
   "source": [
    "print(cleaned_data.isnull().sum())"
   ]
  },
  {
   "cell_type": "code",
   "execution_count": 45,
   "metadata": {},
   "outputs": [
    {
     "name": "stdout",
     "output_type": "stream",
     "text": [
      "7.6\n"
     ]
    }
   ],
   "source": [
    "x=round(cleaned_data[\"number_of_reviews\"].mean(),1)\n",
    "print(x)\n",
    "cleaned_data[\"number_of_reviews\"].fillna(x,inplace = True)"
   ]
  },
  {
   "cell_type": "code",
   "execution_count": 46,
   "metadata": {},
   "outputs": [
    {
     "name": "stdout",
     "output_type": "stream",
     "text": [
      "4.8\n"
     ]
    }
   ],
   "source": [
    "x=round(cleaned_data[\"review_scores_cleanliness\"].mean(),1)\n",
    "print(x)\n",
    "cleaned_data[\"review_scores_cleanliness\"].fillna(x,inplace = True)"
   ]
  },
  {
   "cell_type": "code",
   "execution_count": 47,
   "metadata": {},
   "outputs": [
    {
     "name": "stdout",
     "output_type": "stream",
     "text": [
      "199.7\n"
     ]
    }
   ],
   "source": [
    "x=round(cleaned_data[\"availability_365\"].mean(),1)\n",
    "print(x)\n",
    "cleaned_data[\"availability_365\"].fillna(x,inplace = True)"
   ]
  },
  {
   "cell_type": "code",
   "execution_count": 49,
   "metadata": {},
   "outputs": [
    {
     "name": "stdout",
     "output_type": "stream",
     "text": [
      "4.9\n"
     ]
    }
   ],
   "source": [
    "x=round(cleaned_data[\"review_scores_location\"].mean(),1)\n",
    "print(x)\n",
    "cleaned_data[\"review_scores_location\"].fillna(x,inplace = True)"
   ]
  },
  {
   "cell_type": "code",
   "execution_count": 50,
   "metadata": {},
   "outputs": [
    {
     "name": "stdout",
     "output_type": "stream",
     "text": [
      "4.8\n"
     ]
    }
   ],
   "source": [
    "x=round(cleaned_data[\"review_scores_value\"].mean(),1)\n",
    "print(x)\n",
    "cleaned_data[\"review_scores_value\"].fillna(x,inplace = True)"
   ]
  },
  {
   "cell_type": "code",
   "execution_count": 51,
   "metadata": {},
   "outputs": [
    {
     "name": "stdout",
     "output_type": "stream",
     "text": [
      "1.4\n"
     ]
    }
   ],
   "source": [
    "x=round(cleaned_data[\"bathrooms_text\"].mean(),1)\n",
    "print(x)\n",
    "cleaned_data[\"bathrooms_text\"].fillna(x,inplace = True)"
   ]
  },
  {
   "cell_type": "code",
   "execution_count": 52,
   "metadata": {},
   "outputs": [
    {
     "name": "stdout",
     "output_type": "stream",
     "text": [
      "369.1\n"
     ]
    }
   ],
   "source": [
    "x=round(cleaned_data[\"price\"].mean(),1)\n",
    "print(x)\n",
    "cleaned_data[\"price\"].fillna(x,inplace = True)"
   ]
  },
  {
   "cell_type": "code",
   "execution_count": 54,
   "metadata": {},
   "outputs": [
    {
     "name": "stdout",
     "output_type": "stream",
     "text": [
      "2.3\n"
     ]
    }
   ],
   "source": [
    "x=round(cleaned_data[\"beds\"].mean(),1)\n",
    "print(x)\n",
    "cleaned_data[\"beds\"].fillna(x,inplace = True)"
   ]
  },
  {
   "cell_type": "code",
   "execution_count": 55,
   "metadata": {},
   "outputs": [
    {
     "name": "stdout",
     "output_type": "stream",
     "text": [
      "4.8\n"
     ]
    }
   ],
   "source": [
    "x=round(cleaned_data[\"review_scores_communication\"].mean(),1)\n",
    "print(x)\n",
    "cleaned_data[\"review_scores_communication\"].fillna(x,inplace = True)"
   ]
  },
  {
   "cell_type": "code",
   "execution_count": 56,
   "metadata": {},
   "outputs": [
    {
     "name": "stdout",
     "output_type": "stream",
     "text": [
      "4.8\n"
     ]
    }
   ],
   "source": [
    "x=round(cleaned_data[\"review_scores_checkin\"].mean(),1)\n",
    "print(x)\n",
    "cleaned_data[\"review_scores_checkin\"].fillna(x,inplace = True)"
   ]
  },
  {
   "cell_type": "code",
   "execution_count": 57,
   "metadata": {},
   "outputs": [
    {
     "name": "stdout",
     "output_type": "stream",
     "text": [
      "2.4\n"
     ]
    }
   ],
   "source": [
    "x=round(cleaned_data[\"minimum_nights\"].mean(),1)\n",
    "print(x)\n",
    "cleaned_data[\"minimum_nights\"].fillna(x,inplace = True)"
   ]
  },
  {
   "cell_type": "code",
   "execution_count": 58,
   "metadata": {},
   "outputs": [
    {
     "name": "stdout",
     "output_type": "stream",
     "text": [
      "511.9\n"
     ]
    }
   ],
   "source": [
    "x=round(cleaned_data[\"maximum_nights\"].mean(),1)\n",
    "print(x)\n",
    "cleaned_data[\"maximum_nights\"].fillna(x,inplace = True)"
   ]
  },
  {
   "cell_type": "code",
   "execution_count": 59,
   "metadata": {},
   "outputs": [
    {
     "name": "stdout",
     "output_type": "stream",
     "text": [
      "3.7\n"
     ]
    }
   ],
   "source": [
    "x=round(cleaned_data[\"accommodates\"].mean(),1)\n",
    "print(x)\n",
    "cleaned_data[\"accommodates\"].fillna(x,inplace = True)"
   ]
  },
  {
   "cell_type": "code",
   "execution_count": 60,
   "metadata": {},
   "outputs": [
    {
     "name": "stdout",
     "output_type": "stream",
     "text": [
      "369.1\n",
      "number_of_reviews              0\n",
      "review_scores_cleanliness      0\n",
      "availability_365               0\n",
      "review_scores_location         0\n",
      "review_scores_value            0\n",
      "bathrooms_text                 0\n",
      "price                          0\n",
      "beds                           0\n",
      "review_scores_communication    0\n",
      "review_scores_checkin          0\n",
      "minimum_nights                 0\n",
      "maximum_nights                 0\n",
      "accommodates                   0\n",
      "dtype: int64\n"
     ]
    }
   ],
   "source": [
    "x=round(cleaned_data[\"price\"].mean(),1)\n",
    "print(x)\n",
    "cleaned_data[\"price\"].fillna(x,inplace = True)\n",
    "print(cleaned_data.isnull().sum())"
   ]
  },
  {
   "cell_type": "code",
   "execution_count": 61,
   "metadata": {},
   "outputs": [],
   "source": [
    "Df_colo = pd.concat([cleaned_data, df_conc], axis=1)"
   ]
  },
  {
   "cell_type": "code",
   "execution_count": 62,
   "metadata": {},
   "outputs": [],
   "source": [
    "Df_colo['bathrooms_text'] = Df_colo['bathrooms_text'].replace(1.3, 1.5)"
   ]
  },
  {
   "cell_type": "code",
   "execution_count": 63,
   "metadata": {},
   "outputs": [],
   "source": [
    "Df_colo.to_csv(\"DF_LIMATIPICOS_Bludeblus.csv\")"
   ]
  }
 ],
 "metadata": {
  "kernelspec": {
   "display_name": "Python 3",
   "language": "python",
   "name": "python3"
  },
  "language_info": {
   "codemirror_mode": {
    "name": "ipython",
    "version": 3
   },
   "file_extension": ".py",
   "mimetype": "text/x-python",
   "name": "python",
   "nbconvert_exporter": "python",
   "pygments_lexer": "ipython3",
   "version": "3.11.4"
  },
  "orig_nbformat": 4
 },
 "nbformat": 4,
 "nbformat_minor": 2
}
